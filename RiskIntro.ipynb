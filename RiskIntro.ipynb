{
  "nbformat": 4,
  "nbformat_minor": 0,
  "metadata": {
    "colab": {
      "provenance": []
    },
    "kernelspec": {
      "name": "python3",
      "display_name": "Python 3"
    },
    "language_info": {
      "name": "python"
    }
  },
  "cells": [
    {
      "cell_type": "markdown",
      "source": [
        "# Risk"
      ],
      "metadata": {
        "id": "ZdIeYoQzFS1j"
      }
    },
    {
      "cell_type": "markdown",
      "source": [
        "Defining and managing risk is one of the most important issues firms are facing in their daily operations.\n",
        "Especially important for financial institutions that rely on leverage.\n",
        "\n",
        "**Find an answer to the question:**\n",
        "“What is realistically the worst that could happen over one day, one week, or one year?”\n",
        "\n",
        "**Value-at-Risk (VaR)** provides an answer to this question by defining 'realistically' as an outcome so severe that anything worse is highly unlikely."
      ],
      "metadata": {
        "id": "WVOE1PvRFWax"
      }
    },
    {
      "cell_type": "markdown",
      "source": [
        "Value-at-Risk (VaR) at confidence level c is how much you loose in “c worst case”:"
      ],
      "metadata": {
        "id": "SHNJr7mZcdVD"
      }
    },
    {
      "cell_type": "markdown",
      "source": [
        "$Prob(W<W_0-VaR)= 1 - c$"
      ],
      "metadata": {
        "id": "wqYnT_vAclSv"
      }
    },
    {
      "cell_type": "markdown",
      "source": [
        "Typically:\n",
        "\n",
        "$W$ is the value of a portfolio at some point in the future (1 day, 1 month, 1 year)\n",
        "\n",
        "$W_0$ gives some base level: often current value of the portfolio\n",
        "\n",
        "Confidence level $c$ gives concrete meaning to “worst case”: 99%, 99.9%\n"
      ],
      "metadata": {
        "id": "YThqzFJFdmaX"
      }
    },
    {
      "cell_type": "markdown",
      "source": [
        "# VaR for an exponential distribution"
      ],
      "metadata": {
        "id": "Pbj_kbwoZ8ZH"
      }
    },
    {
      "cell_type": "markdown",
      "source": [
        "For W $\\ge$0, the random variable W following an exponential distribution with mean $w_0$ has the probability density function"
      ],
      "metadata": {
        "id": "BqTZGXGqaAry"
      }
    },
    {
      "cell_type": "markdown",
      "source": [
        "\\begin{align}\n",
        "f(w) = \\frac{1 \\,}{W_0}e^{-\\frac{w \\,}{W_0}}\n",
        "\\end{align}"
      ],
      "metadata": {
        "id": "hxO14Ghyds3K"
      }
    },
    {
      "cell_type": "markdown",
      "source": [
        "and cumulative distribution function"
      ],
      "metadata": {
        "id": "DVKnoa48fVPu"
      }
    },
    {
      "cell_type": "markdown",
      "source": [
        "\\begin{align}\n",
        "F(w) = {1- \\,}e^{-\\frac{w \\,}{W_0}}\n",
        "\\end{align}"
      ],
      "metadata": {
        "id": "rPKR5ycwfdCi"
      }
    },
    {
      "cell_type": "markdown",
      "source": [
        "This is because a random variable x $\\sim$ $Exp(\\lambda)$ has ${\\displaystyle \\mathbb {E} }$ [x]= $\\frac{1}{\\lambda}$ s.t. an exponentially distributed variable with mean $W_0$ has rate parameter $\\frac{1}{W_0}$"
      ],
      "metadata": {
        "id": "-arPkCj8f5sr"
      }
    },
    {
      "cell_type": "markdown",
      "source": [
        "Given that this is a continuous distribution[ˆ1],the VaR of the long position satisfies"
      ],
      "metadata": {
        "id": "wEYKWScYtly5"
      }
    },
    {
      "cell_type": "markdown",
      "source": [
        "${\\displaystyle \\mathbb {P} }$ $(W_0-W)$ > VaR = ${1}-{c}$"
      ],
      "metadata": {
        "id": "0BfjE7YhujJ9"
      }
    },
    {
      "cell_type": "code",
      "execution_count": null,
      "metadata": {
        "id": "4E8Q6EyhZ6Tw"
      },
      "outputs": [],
      "source": [
        "import numpy as np\n",
        "import scipy.stats\n",
        "import matplotlib.pyplot as plt\n",
        "from scipy.integrate import quad"
      ]
    },
    {
      "cell_type": "code",
      "source": [
        "100*(1 + np.log(0.99))"
      ],
      "metadata": {
        "colab": {
          "base_uri": "https://localhost:8080/"
        },
        "id": "HeHHnr71ljpm",
        "outputId": "8a0bc4a9-1f9b-429f-d1cd-d7576e62a354"
      },
      "execution_count": null,
      "outputs": [
        {
          "output_type": "execute_result",
          "data": {
            "text/plain": [
              "98.99496641464985"
            ]
          },
          "metadata": {},
          "execution_count": 2
        }
      ]
    }
  ]
}