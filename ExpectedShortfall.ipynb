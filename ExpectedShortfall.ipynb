{
  "nbformat": 4,
  "nbformat_minor": 0,
  "metadata": {
    "colab": {
      "provenance": []
    },
    "kernelspec": {
      "name": "python3",
      "display_name": "Python 3"
    },
    "language_info": {
      "name": "python"
    }
  },
  "cells": [
    {
      "cell_type": "code",
      "source": [
        "import os\n",
        "import pandas as pd\n",
        "import numpy as np\n",
        "import math as math\n",
        "import scipy.stats as stats\n",
        "from scipy.stats import expon\n",
        "from scipy.integrate import quad\n",
        "import matplotlib.pyplot as plt\n",
        "from scipy.stats import norm"
      ],
      "metadata": {
        "id": "6JMgloF6k9jG"
      },
      "execution_count": null,
      "outputs": []
    },
    {
      "cell_type": "markdown",
      "source": [
        "##Expected shortfall"
      ],
      "metadata": {
        "id": "b7tKY2bME-NE"
      }
    },
    {
      "cell_type": "markdown",
      "source": [
        "Average of the $[(1 - c) * n]$ worst realizations"
      ],
      "metadata": {
        "id": "I6VkxGcIQqOh"
      }
    },
    {
      "cell_type": "markdown",
      "source": [
        " Derive a formula for the expected shortfall if gains are normally distributed $N(\\mu, \\sigma^{2})$."
      ],
      "metadata": {
        "id": "T8V6AG6PFEIv"
      }
    },
    {
      "cell_type": "markdown",
      "source": [
        "Normal Distribution:\n",
        "\\begin{equation}\n",
        "f(x) = \\frac{1}{\\sqrt{2\\pi\\sigma^2}}e^{-\\frac{(x-\\mu)^2}{2\\sigma^2}}\n",
        "\\end{equation}\n",
        "\n",
        "\\begin{equation}\n",
        "F(x) = \\frac{1}{\\sqrt{2\\pi\\sigma^2}}\\int_{-\\infty}^x e^{-\\frac{(t-\\mu)^2}{2\\sigma^2}} dt\n",
        "\\end{equation}\n",
        "\n",
        "$$E[X] = \\mu, Var[X] = \\sigma^2$$\n",
        "\n",
        "Expected Shortfall:\\begin{align*}\n",
        "ES_{\\alpha} &= W_0-E[W|W<W_0-VAR]\\\\\n",
        "& = W_0-\\frac{\\int_{-\\infty}^{W_0-VAR}Wf(W)dW}{\\int_{-\\infty}^{W_0-VAR}f(W)dW}\\\\\n",
        "\\end{align*}\n",
        "\n",
        "Derive the formula: Let \\begin{align*}\n",
        "y = \\frac{x-\\mu}{\\sigma}\n",
        "\\end{align*}\n",
        "We can get \\begin{align*}\n",
        "dy = \\frac{dx}{\\sigma}, x = {\\sigma}y + \\mu, dx = {\\sigma}dy\n",
        "\\end{align*}\n",
        "Then\n",
        "$$\n",
        "\\begin{aligned}\n",
        "ES_{\\alpha} &=\\frac{1}{\\sqrt{2 \\pi \\sigma^2}} \\int_{-\\infty}^{\\mu-VaR_\\alpha} x \\cdot \\exp \\left(-\\frac{(x-\\mu)^2}{2 \\sigma^2}\\right) d x \\\\\n",
        "= & \\frac{1}{\\sqrt{2 \\pi \\sigma^2}} \\int(\\sigma y+\\mu) \\cdot \\exp \\left(-\\frac{(\\sigma y+\\mu-\\mu)^2}{2 \\sigma^2}\\right) \\sigma d y \\\\\n",
        "= & \\frac{1}{\\sqrt{2 \\pi \\sigma^2}} \\int(\\sigma y+\\mu) \\exp \\left(-\\frac{y^2}{2}\\right) \\sigma d y \\\\\n",
        "= & \\frac{1}{\\sqrt{2 \\pi \\sigma^2}} \\int \\sigma^2 y \\exp \\left(-\\frac{y^2}{2}\\right) d y+\\frac{1}{\\sqrt{2 \\pi \\sigma^2}} \\int \\sigma \\mu \\exp \\left(-\\frac{y^2}{2}\\right) d y \\\\\n",
        "= & \\mu \\int_{-\\infty}^{y_0-V a R_{(0,1)}} \\frac{1}{\\sqrt{2 \\pi}} \\exp \\left(-\\frac{y^2}{2}\\right) d y+\\sigma \\int_{-\\infty}^{y_0-V a R_{(0,1)}} \\frac{1}{\\sqrt{2 \\pi}} y \\exp \\left(-\\frac{y^2}{2}\\right) d y\n",
        "\\end{aligned}\n",
        "$$\n",
        "Since\n",
        "$$\\begin{aligned}\n",
        "y_0 = 0, VaR_\\alpha = -z(1-\\alpha)=-z(c))\n",
        "\\end{aligned}$$\n",
        "We continue deriving the above formula, and we can abtain\n",
        "$$\n",
        "\\begin{aligned}\n",
        "= & \\mu \\cdot(1-c)+\\left.\\sigma \\cdot \\frac{-1}{\\sqrt{2 \\pi}} \\cdot e^{\\frac{-y^2}{2}}\\right|_{\\infty} ^{z(c)} \\\\\n",
        "= & \\mu \\cdot(1-c)+\\sigma \\cdot \\frac{-1}{\\sqrt{2 \\pi}} e^{-z(c)^2 / 2}\n",
        "\\end{aligned}\n",
        "$$\n",
        "Finally, we can get\n",
        "$$\n",
        "E S=y_0-\\frac{\\mu \\cdot(1-c)+\\sigma \\cdot \\frac{-1}{\\sqrt{2 \\pi}} e^{-z(c)^2 / 2}}{1-c}=-\\mu+\\sigma \\cdot \\frac{1}{\\sqrt{2 \\pi}(1-c)} e^{-z(c)^2 / 2}\n",
        "$$"
      ],
      "metadata": {
        "id": "Tvii7iymFNri"
      }
    },
    {
      "cell_type": "markdown",
      "source": [
        "The expected shortfall can also be defined as the average of the VaR for all confidence level above c: $ES = \\frac{1}{1-c}\\int_{c}^{1} VaR_{\\alpha}d\\alpha$ Prove that this definition is equivalent to the one we have seen in class. Hint: You can use integration by part and a change of variable."
      ],
      "metadata": {
        "id": "daxvzuCOFhdp"
      }
    },
    {
      "cell_type": "markdown",
      "source": [
        "From the definition of VaR and ES, we get\n",
        "\\begin{aligned}\n",
        "E S & =\\frac{1}{1-c} \\int_c^1 V a R_\\alpha d \\alpha \\\\\n",
        "& =\\frac{1}{1-c} \\int_c^1 W_0-F^{-1}(1-\\alpha) d \\alpha \\\\\n",
        "& =W_0-\\frac{1}{1-c} \\int_c^1 F^{-1}(1-\\alpha) d \\alpha\n",
        "\\end{aligned}\n",
        "Cause$$\n",
        "\\begin{aligned}\n",
        "W=F^{-1}(1-\\alpha)\n",
        "\\end{aligned}\n",
        "$$\n",
        "We have\n",
        "$$\n",
        "d W=-\\frac{1}{F^{\\prime}\\left(F^{-1}(1-\\alpha)\\right)} d \\alpha=-\\frac{1}{f\\left(F^{-1}(1-\\alpha)\\right)} d \\alpha\n",
        "$$\n",
        "Since\n",
        "$$\n",
        "d \\alpha=-f\\left(F^{-1}(1-\\alpha)\\right) d W=-f(W) d W\n",
        "$$\n",
        "and\n",
        "$$F^{-1}(1-1)=-\\infty, F^{-1}(1-c)=W_0-V a R$$\n",
        "We have\n",
        "$$\n",
        "\\begin{aligned}\n",
        "& W_0-\\frac{1}{1-c} \\int_c^1 F^{-1}(1-\\alpha) d \\alpha \\\\\n",
        "= & W_0-\\frac{1}{1-c} \\int_{W_0-V a R}^{-\\infty}-W f(W) d W \\\\\n",
        "= & W_0-\\frac{1}{1-c} \\int_{-\\infty}^{W_0-V a R} W f(W) d W\n",
        "\\end{aligned}\n",
        "$$"
      ],
      "metadata": {
        "id": "2Ex1mAzWF1pz"
      }
    },
    {
      "cell_type": "markdown",
      "source": [
        " ## Decomposing the VaR of a portfolio"
      ],
      "metadata": {
        "id": "KfKLqX5EF-IR"
      }
    },
    {
      "cell_type": "markdown",
      "source": [
        "part 1"
      ],
      "metadata": {
        "id": "Si36BsJywFxT"
      }
    },
    {
      "cell_type": "markdown",
      "source": [
        "Assume you have a portfolio of 2m in asset A, 6m in asset B and 2m in\n",
        "asset C. What is the VaR of your portfolio? What is the CVaR and DVaR\n",
        "for each of the assets? Check that the sum of CVaRs coincides with VaR.\n",
        "Which asset is responsible for the most risk of the portfolio?"
      ],
      "metadata": {
        "id": "B_vk0DGZv24X"
      }
    },
    {
      "cell_type": "markdown",
      "source": [
        "**Function draw_returns(N)**\n",
        "\n",
        "This function simulates returns for a portfolio of three assets over\n",
        "$𝑁$ periods, distinguishing between normal and special (crisis) years:\n",
        "\n",
        "*normal_year:* A binomial distribution to simulate 90% normal years and 10% special years.\n",
        "\n",
        "*normal_ret*: Multivariate normal returns for normal years.\n",
        "\n",
        "*special_ret*: Multivariate normal returns for special years.\n",
        "\n",
        "The function then combines these to create a series of returns for the portfolio."
      ],
      "metadata": {
        "id": "vK8MFthvV2ia"
      }
    },
    {
      "cell_type": "code",
      "execution_count": null,
      "metadata": {
        "id": "6LsD27HJE0cX"
      },
      "outputs": [],
      "source": [
        "def draw_returns(N):\n",
        "\n",
        "    # coin flips\n",
        "    normal_year = np.random.binomial(1, 0.9, N)\n",
        "\n",
        "    # draw for normal years\n",
        "    mu = np.array([0.05, 0.05, 0.05])\n",
        "    Sigma = np.array([[0.09, 0.012, 0.021], [0.012, 0.16, 0.028], [0.021, 0.028, 0.49]])\n",
        "    normal_ret = np.random.multivariate_normal(mu, Sigma, N)\n",
        "\n",
        "    # draws for special years\n",
        "    mu = np.array([-0.1, -0.1, -0.1])\n",
        "    Sigma = np.array([[0.36, 0.24, 0.42], [0.24, 0.64, 0.56], [0.42, 0.56, 1.96]])\n",
        "    special_ret = np.random.multivariate_normal(mu, Sigma, N)\n",
        "\n",
        "    # combine\n",
        "    ret = normal_ret\n",
        "    for i in range(N):\n",
        "        if normal_year[i] == 0:\n",
        "            ret[i,:] = special_ret[i,:]\n",
        "\n",
        "    return(ret)"
      ]
    },
    {
      "cell_type": "markdown",
      "source": [
        "First, for the VaR:"
      ],
      "metadata": {
        "id": "xoE7Tod2xFFu"
      }
    },
    {
      "cell_type": "markdown",
      "source": [
        "**Portfolio_profit(returns, holdings)**\n",
        "\n",
        "This function calculates the profit of a portfolio given returns and holdings:\n",
        "np.dot(returns, holdings): Computes the dot product, which gives the total profit for each set of returns.\n",
        "\n",
        "**VaR_from_gains(gains, c=0.99)**\n",
        "This function calculates the Value at Risk (VaR) at confidence level\n",
        "$c$:\n",
        "\n",
        "VaR is the maximum expected loss over a given time period at a specific confidence level. It sorts the gains and selects the appropriate quantile based on $c$."
      ],
      "metadata": {
        "id": "sgrN7Fp7LV9k"
      }
    },
    {
      "cell_type": "markdown",
      "source": [
        "**Portfolio Analysis**\n",
        "\n",
        "*Initial Holdings:*\n",
        "\n",
        "holdings_Q1=[2000,6000,2000]\n",
        "\n",
        "holdings_Q1=[2000,6000,2000]\n",
        "\n",
        "in thousands of dollars.\n",
        "\n",
        "**Gains:** Profits from the portfolio given the simulated returns and holdings.\n",
        "\n",
        "**VaR_Q1**: The Value at Risk for the portfolio with the initial holdings.\n",
        "\n",
        "Delta VaR (DVaR) Calculations\n",
        "The effect of increasing the position in each asset by $1000 on VaR:\n",
        "\n",
        "DVaR_A: Change in VaR when increasing the first asset’s holdings.\n",
        "\n",
        "DVaR_B: Change in VaR for the second asset.\n",
        "\n",
        "DVaR_C: Change in VaR for the third asset.\n",
        "\n",
        "Conditional Value at Risk (CVaR)\n",
        "CVaR (also called Expected Shortfall) measures the average loss given that the loss exceeds the VaR. It provides a more comprehensive risk measure.\n",
        "\n",
        "**The calculation:**\n",
        "\n",
        "Delta: A small increment in asset holdings (0.01 or 1%).\n",
        "\n",
        "CVaR_A: The conditional VaR for the first asset when its holdings are increased slightly.\n",
        "\n",
        "**Context:** Value at Risk (VaR) and Conditional Value at Risk (CVaR)\n",
        "VaR is a threshold value such that the probability that the loss on the portfolio over the given time horizon exceeds this value is the confidence level (e.g., 99%).\n",
        "CVaR takes this a step further by considering the tail of the loss distribution beyond the VaR, providing a measure of the expected loss in extreme scenarios. It's especially useful in risk management for understanding the potential impact of rare, but severe, losses."
      ],
      "metadata": {
        "id": "Ak0ASb-H-imz"
      }
    },
    {
      "cell_type": "code",
      "source": [
        "import numpy as np\n",
        "import math\n",
        "import matplotlib.pyplot as plt\n",
        "\n",
        "np.random.seed(1234)\n",
        "\n",
        "# Assuming the function draw_returns(N) is defined elsewhere and returns a (N, 3) matrix of simulated returns.\n",
        "rets = draw_returns(10000)\n",
        "\n",
        "def portfolio_profit(returns, holdings):\n",
        "    \"\"\"\n",
        "    Calculate the profit of a portfolio given returns and holdings.\n",
        "\n",
        "    Parameters:\n",
        "    returns (numpy array): Array of returns.\n",
        "    holdings (numpy array): Array of holdings in thousands of dollars.\n",
        "\n",
        "    Returns:\n",
        "    float: The total profit for the portfolio.\n",
        "    \"\"\"\n",
        "    return np.dot(returns, holdings)\n",
        "\n",
        "holdings_Q1 = np.array([2000, 6000, 2000])  # in 1000 $\n",
        "\n",
        "gains = portfolio_profit(rets, holdings_Q1)\n",
        "\n",
        "def VaR_from_gains(gains, c=0.99):\n",
        "    \"\"\"\n",
        "    Calculate the Value at Risk (VaR) for given portfolio gains at confidence level c.\n",
        "\n",
        "    Parameters:\n",
        "    gains (numpy array): Array of portfolio gains.\n",
        "    c (float): Confidence level for VaR calculation (default is 0.99).\n",
        "\n",
        "    Returns:\n",
        "    float: The VaR value.\n",
        "    \"\"\"\n",
        "    n = len(gains)\n",
        "    sort = sorted(gains)\n",
        "    VaR = -sort[math.ceil(n * (1 - c)) - 1]\n",
        "    return VaR\n",
        "\n",
        "VaR_Q1 = VaR_from_gains(gains)\n",
        "print(\"VaR for holdings_Q1:\", VaR_Q1)\n",
        "\n",
        "# Delta VaR (DVaR) Calculations\n",
        "Delta = 1\n",
        "\n",
        "# Asset A\n",
        "VaR_new_A = VaR_from_gains(portfolio_profit(rets, holdings_Q1 + np.array([Delta, 0, 0])))\n",
        "DVaR_A = (VaR_new_A - VaR_Q1) / Delta\n",
        "print(\"DVaR_A:\", DVaR_A)\n",
        "\n",
        "# Asset B\n",
        "VaR_new_B = VaR_from_gains(portfolio_profit(rets, holdings_Q1 + np.array([0, Delta, 0])))\n",
        "DVaR_B = (VaR_new_B - VaR_Q1) / Delta\n",
        "print(\"DVaR_B:\", DVaR_B)\n",
        "\n",
        "# Asset C\n",
        "VaR_new_C = VaR_from_gains(portfolio_profit(rets, holdings_Q1 + np.array([0, 0, Delta])))\n",
        "DVaR_C = (VaR_new_C - VaR_Q1) / Delta\n",
        "print(\"DVaR_C:\", DVaR_C)\n",
        "\n",
        "# Conditional Value at Risk (CVaR) Calculations\n",
        "Delta = 0.01\n",
        "\n",
        "# Asset A\n",
        "VaR_new_A = VaR_from_gains(portfolio_profit(rets, holdings_Q1 * np.array([1 + Delta, 1, 1])))\n",
        "CVaR_A = 100 * (VaR_new_A - VaR_Q1)\n",
        "print(\"CVaR_A:\", CVaR_A)\n",
        "\n",
        "# Asset B\n",
        "VaR_new_B = VaR_from_gains(portfolio_profit(rets, holdings_Q1 * np.array([1, 1 + Delta, 1])))\n",
        "CVaR_B = 100 * (VaR_new_B - VaR_Q1)\n",
        "print(\"CVaR_B:\", CVaR_B)\n",
        "\n",
        "# Asset C\n",
        "VaR_new_C = VaR_from_gains(portfolio_profit(rets, holdings_Q1 * np.array([1, 1, 1 + Delta])))\n",
        "CVaR_C = 100 * (VaR_new_C - VaR_Q1)\n",
        "print(\"CVaR_C:\", CVaR_C)\n",
        "\n",
        "# Checking the sum of CVaRs against VaR\n",
        "cvar_sum_deviation = (CVaR_A + CVaR_B + CVaR_C) / VaR_new_C\n",
        "print(\"Sum of CVaR deviations:\", cvar_sum_deviation)\n",
        "\n",
        "def deviation(Delta):\n",
        "    \"\"\"\n",
        "    Calculate the deviation between the sum of CVaRs and VaR for different deltas.\n",
        "\n",
        "    Parameters:\n",
        "    Delta (float): The small increment in asset holdings.\n",
        "\n",
        "    Returns:\n",
        "    float: The deviation value.\n",
        "    \"\"\"\n",
        "    # Asset A\n",
        "    VaR_new_A = VaR_from_gains(portfolio_profit(rets, holdings_Q1 * np.array([1 + Delta, 1, 1])))\n",
        "    CVaR_A = (VaR_new_A - VaR_Q1) / Delta\n",
        "\n",
        "    # Asset B\n",
        "    VaR_new_B = VaR_from_gains(portfolio_profit(rets, holdings_Q1 * np.array([1, 1 + Delta, 1])))\n",
        "    CVaR_B = (VaR_new_B - VaR_Q1) / Delta\n",
        "\n",
        "    # Asset C\n",
        "    VaR_new_C = VaR_from_gains(portfolio_profit(rets, holdings_Q1 * np.array([1, 1, 1 + Delta])))\n",
        "    CVaR_C = (VaR_new_C - VaR_Q1) / Delta\n",
        "\n",
        "    # Return the deviation as a percentage\n",
        "    return np.abs(CVaR_A + CVaR_B + CVaR_C - VaR_new_C) / VaR_new_C\n",
        "\n",
        "# Analyze the deviation for different Delta values\n",
        "Deltas = np.array([0.00001, 0.0001, 0.001, 0.01, 0.1])\n",
        "deviations = [deviation(Delta) for Delta in Deltas]\n",
        "\n",
        "plt.plot(Deltas, deviations, 'o')\n",
        "plt.xscale('log')\n",
        "plt.xlabel('Delta')\n",
        "plt.ylabel('Deviation from VaR')\n",
        "plt.title('Deviation of Sum(CVaR) from VaR for Different Deltas')\n",
        "plt.show()\n",
        "\n",
        "# Analysis with different holdings\n",
        "holdings_Q3 = np.array([3000, 5000, 2000])  # in 1000 $\n",
        "gains_Q3 = portfolio_profit(rets, holdings_Q3)\n",
        "VaR_Q3 = VaR_from_gains(gains_Q3)\n",
        "print(\"VaR for holdings_Q3:\", VaR_Q3)\n",
        "\n",
        "# DVaR for Asset C with new holdings\n",
        "Delta = 1\n",
        "VaR_new_C = VaR_from_gains(portfolio_profit(rets, holdings_Q3 + np.array([0, 0, Delta])))\n",
        "DVaR_C = (VaR_new_C - VaR_Q3) / Delta\n",
        "print(\"DVaR_C for holdings_Q3:\", DVaR_C)\n",
        "\n",
        "# CVaR for Asset C with new holdings\n",
        "Delta = 0.01\n",
        "VaR_new_C = VaR_from_gains(portfolio_profit(rets, holdings_Q3 * np.array([1, 1, 1 + Delta])))\n",
        "CVaR_C = 100 * (VaR_new_C - VaR_Q3)\n",
        "print(\"CVaR_C for holdings_Q3:\", CVaR_C)\n"
      ],
      "metadata": {
        "colab": {
          "base_uri": "https://localhost:8080/",
          "height": 667
        },
        "id": "UcF5xVNTBrVo",
        "outputId": "1f0c47e1-e730-4965-c3fb-a2469209f29b"
      },
      "execution_count": null,
      "outputs": [
        {
          "output_type": "stream",
          "name": "stdout",
          "text": [
            "VaR for holdings_Q1: 9956.983483145892\n",
            "DVaR_A: 0.9310030602446204\n",
            "DVaR_B: 0.6708504808684665\n",
            "DVaR_C: 2.034937238724524\n",
            "CVaR_A: 1862.00612048724\n",
            "CVaR_B: 4025.1028852100717\n",
            "CVaR_C: 4069.874477448866\n",
            "Sum of CVaR deviations: 0.9959291819997494\n"
          ]
        },
        {
          "output_type": "display_data",
          "data": {
            "text/plain": [
              "<Figure size 640x480 with 1 Axes>"
            ],
            "image/png": "[encoded data removed]"
          },
          "metadata": {}
        },
        {
          "output_type": "stream",
          "name": "stdout",
          "text": [
            "VaR for holdings_Q3: 9565.547422197978\n",
            "DVaR_C for holdings_Q3: 3.2698732136959734\n",
            "CVaR_C for holdings_Q3: 6539.746427393948\n"
          ]
        }
      ]
    },
    {
      "cell_type": "markdown",
      "source": [
        "Assuming $W_0$ = 0, the VaR is 9956.983483145892."
      ],
      "metadata": {
        "id": "CE6pdltCGK8P"
      }
    },
    {
      "cell_type": "markdown",
      "source": [
        "Let’s start with DVaR by adding some 1k to the holdings of any one stock."
      ],
      "metadata": {
        "id": "Ooxjuqr8GYml"
      }
    },
    {
      "cell_type": "markdown",
      "source": [
        "When you approximate the derivatives involved in DVaR and CVaR, vary\n",
        "the size of the position change you use. What do you observe when you\n",
        "change the value? Report a graph that shows the effect of different size of\n",
        "the step for the derivative. Explain what is happening."
      ],
      "metadata": {
        "id": "srzCdmu8umnZ"
      }
    },
    {
      "cell_type": "markdown",
      "source": [
        "![image.png](data:image/png;base64,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)"
      ],
      "metadata": {
        "id": "IeiFhvORnS5V"
      }
    },
    {
      "cell_type": "markdown",
      "source": [
        "How does this depend on Delta. Below you can see show how large the deviation between the sum of CVaR and VaR is for different levels of Delta 0.001%, 0.01%, 0.1%, 1%, and 10%. The smaller Delta, the more precise the result"
      ],
      "metadata": {
        "id": "0TTlu3Y5wntd"
      }
    },
    {
      "cell_type": "markdown",
      "source": [
        "what happens when we hold 2mn $ in both asset A and B, vis-a-vis 1mn and 3mn in A and B. In particular, is this going to affect the DVaR or CVaR for asset C (the holdings and portfolio weights of asset C are)"
      ],
      "metadata": {
        "id": "CCiDItxg7auJ"
      }
    },
    {
      "cell_type": "markdown",
      "source": [
        "##Managing a Currency Trading Desk"
      ],
      "metadata": {
        "id": "a56MXhqv9mfE"
      }
    },
    {
      "cell_type": "markdown",
      "source": [
        "Deutsche Bank (DB) is a German bank that manages its book in EUR. Consider\n",
        "2 desks in DB, one is long 150 million USD and the other is short 50 million GBP.\n",
        "The exchange rates are 1 USD = 0.9163 EUR and 1 GBP = 1.3599 EUR. The\n",
        "daily volatilities for changes in USD/EUR and GBP/EUR are 0.40% and 0.30%,\n",
        "respectively and means of 1 basis point and 1.5 basis points. The correlation\n",
        "between them is 0.6. For risk calculations, assume that the returns have mean\n",
        "zero and are normally distributed."
      ],
      "metadata": {
        "id": "10JS8HdIaEZr"
      }
    },
    {
      "cell_type": "markdown",
      "source": [
        "1. What is the 99% 1-day VaR for each desk?\n",
        "2. What is the 99% 1-day VaR for the combined portfolio?"
      ],
      "metadata": {
        "id": "cQWIIPm3aN-5"
      }
    },
    {
      "cell_type": "markdown",
      "source": [
        "Optional, more challenging:\n",
        "3. Consider an arbitrary portfolio with positions x1 and x2 in two assets.\n",
        "If you increase your position in x1 by a small amount Δx1, by how much do\n",
        "you need to change your position in asset 2 to keep your VaR constant? What\n",
        "is the effect of these changes on your expected profits? Obtain mathematical\n",
        "expressions as function of (some but not neccesarily all of) Δx1, VaR, DVaR,\n",
        "CVaR, and expected returns.\n",
        "4. How would you change the allocation of DB’s trading desk? Give a\n",
        "quantitative argument."
      ],
      "metadata": {
        "id": "CXNfdb_0aVm9"
      }
    },
    {
      "cell_type": "markdown",
      "source": [
        "**Optional, more challenging:**\n",
        "3. Consider an arbitrary portfolio with positions x1 and x2 in two assets.\n",
        "If you increase your position in x1 by a small amount Δx1, by how much do\n",
        "you need to change your position in asset 2 to keep your VaR constant? What\n",
        "is the effect of these changes on your expected profits? Obtain mathematical\n",
        "expressions as function of (some but not neccesarily all of) Δx1, VaR, DVaR,\n",
        "CVaR, and expected returns.\n",
        "4. How would you change the allocation of DB’s trading desk? Give a\n",
        "quantitative argument."
      ],
      "metadata": {
        "id": "EInfdAxLabEf"
      }
    },
    {
      "cell_type": "markdown",
      "source": [
        "Notice"
      ],
      "metadata": {
        "id": "vfMdqOwCayr0"
      }
    },
    {
      "cell_type": "markdown",
      "source": [
        "\\begin{align}\n",
        "        \\mathbf{R} \\mathbf{_{t+1}} \\mathbf{^{USDEUR}} =  \\frac{\\mathbf{E} \\mathbf{_{t+1}} \\, {^{USDEUR}}}{\\mathbf{\\mathbf{E}_{t+1}\\, {^{USDEUR}} }}-1 \\sim N (0.0001, 0.004^2)\n",
        "    \\end{align}"
      ],
      "metadata": {
        "id": "LztLlNrecqxT"
      }
    },
    {
      "cell_type": "markdown",
      "source": [
        "\\begin{align}\n",
        "        \\mathbf{R} \\mathbf{_{t+1}} \\mathbf{^{USDEUR}} =  \\frac{\\mathbf{E} \\mathbf{_{t+1}} \\, {^{USDEUR}}}{\\mathbf{\\mathbf{E}_{t+1}\\, {^{USDEUR}} }}-1 \\sim N (0.00015, 0.003^2)\n",
        "    \\end{align}"
      ],
      "metadata": {
        "id": "W--cVj7qleY4"
      }
    },
    {
      "cell_type": "markdown",
      "source": [
        "Assume means are zero for risk management purposes. Then the VaR, measured in EUR,of the desk with USD is"
      ],
      "metadata": {
        "id": "_QQWNEnQlwgu"
      }
    },
    {
      "cell_type": "markdown",
      "source": [
        "\\begin{align}\n",
        "        \\mathbf{VaR} \\mathbf{_{0.99}} =  2.326 × 0.004 × 137.45 = = 1.279m\n",
        "    \\end{align}"
      ],
      "metadata": {
        "id": "N33H4IDk6qAg"
      }
    },
    {
      "cell_type": "markdown",
      "source": [
        "\\begin{align}\n",
        "        \\mathbf{VaR} \\mathbf{_{0.99}} =  2.326 × 0.003 × 67.995 = 0.475m\n",
        "    \\end{align}"
      ],
      "metadata": {
        "id": "Uzf8U4GD7mIi"
      }
    },
    {
      "cell_type": "markdown",
      "source": [
        "The combined porfolio is bi-variate normal. Its volatility and VaR are"
      ],
      "metadata": {
        "id": "-_DVSnyNM0F0"
      }
    },
    {
      "cell_type": "markdown",
      "source": [
        "\\begin{align}\n",
        "        \\mathbf{\\sigma} \\mathbf{_{P}} =  \\mathbf{\\sqrt{{(137.45)^{2}{\\sigma}^{2}_{1}+{(67.995)^{2}{\\sigma}^{2}_{2}}+(67.995)(137.45){\\sigma}_{1}{{\\sigma}_{2}{\\rho}}}} }\n",
        "    \\end{align}"
      ],
      "metadata": {
        "id": "z6YDm-CVM5ka"
      }
    },
    {
      "cell_type": "code",
      "source": [],
      "metadata": {
        "id": "pJzoK7HOZ3eu"
      },
      "execution_count": null,
      "outputs": []
    }
  ]
}