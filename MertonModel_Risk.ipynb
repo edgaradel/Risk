{
  "nbformat": 4,
  "nbformat_minor": 0,
  "metadata": {
    "colab": {
      "provenance": []
    },
    "kernelspec": {
      "name": "python3",
      "display_name": "Python 3"
    },
    "language_info": {
      "name": "python"
    }
  },
  "cells": [
    {
      "cell_type": "markdown",
      "source": [
        "# 1 LTCM Long-Term Capital Management"
      ],
      "metadata": {
        "id": "LCotxrdmqGHC"
      }
    },
    {
      "cell_type": "markdown",
      "source": [
        " 1. What was the broad trading strategy of LTCM?\n",
        "\n"
      ],
      "metadata": {
        "id": "t1xS-smzqAV_"
      }
    },
    {
      "cell_type": "markdown",
      "source": [
        "The core of LTCM was \"relative-value trading\" or \"convergence-arbitrage trades\". Exploiting the differences between related financial instruments, taking advantage of small differences in prices among closely related securities.\n",
        "\"Compare, for instance, an off-the-run Treasury bond yielding 6.1% versus 6.0% for the more recently issued on-the-run. The yield spread represents some compensation for liquidity risk. Over a year, a trade that is long the off-the run and short the on-the-run would be expected to return 10bp for every dollar invested. They key is that eventuallythe two bonds may converge to the same value. Thsi strategy was used in a variety of markets.$^1$\"\n",
        "\n",
        "This strategy was used in long-swap government spreads, long mortgage backed securities versus short government, long high-yielding versus low-yielding European Bonds, Japanese convertible bond arbitrage, equity pairs. The firm also dabbed in non-arbitrage strategies such as short positions in equity options, bets on takeovers, etc.\n",
        "\n",
        "$^1$  *Risk Management Lessons from Long-Term\n",
        "Capital Mangement. Jorion, Phillippe*"
      ],
      "metadata": {
        "id": "4M97Pf6a5LUs"
      }
    },
    {
      "cell_type": "markdown",
      "source": [
        "2. Why did they need so much leverage?"
      ],
      "metadata": {
        "id": "bA9sVz2Yigkh"
      }
    },
    {
      "cell_type": "markdown",
      "source": [
        "1. Relative-value trading generates tiny profits,to achieve attractive returns needs the use of leverage. To manage risk, the target ceiling risk level was set to match the volatility of an unleveraged position in US equities. Essentially, positions were determined through optimization, constrained by volatility and other factors such as liquidity and position concentration. Consequently, leverage had to be exceptionally high, leading LTCM to hold assets four times larger than the next largest hedge fund."
      ],
      "metadata": {
        "id": "K6D2FS0WkVb3"
      }
    },
    {
      "cell_type": "markdown",
      "source": [
        "3. How did their demise happen?"
      ],
      "metadata": {
        "id": "F2u_yfgc6S5s"
      }
    },
    {
      "cell_type": "markdown",
      "source": [
        "LTCM failed because, despite all its associated brainpower, it was unable to measure, control, and manage its risk.\n",
        "\n",
        "As the fund was highly leveraged, the choice of the capital base became a key issue, even though this was expected because of its convergence-arbitrage trades. LTCM's trades were rather undiversified; all trades were exposed to market volatility, and most were exposed to liquidity risk.\n"
      ],
      "metadata": {
        "id": "qEn7SpghEsGY"
      }
    },
    {
      "cell_type": "markdown",
      "source": [
        "4. What were the most important issues with their risk management approach?"
      ],
      "metadata": {
        "id": "94fpZn1WzVoR"
      }
    },
    {
      "cell_type": "markdown",
      "source": [
        "5. How would you manage risk for a fund trying to trade similar strategies?"
      ],
      "metadata": {
        "id": "siA4WQgUzbeH"
      }
    },
    {
      "cell_type": "markdown",
      "source": [
        "# 2 Merton model for credit risk"
      ],
      "metadata": {
        "id": "IBpRMtgN5NxU"
      }
    },
    {
      "cell_type": "markdown",
      "source": [
        "A company’s equity is 4 million and the volatility of equity is 60%. The face value of debt is $15 million and time to debt maturity is 2 year. The risk-free rate is 5.5%."
      ],
      "metadata": {
        "id": "AGvHJqSR5Z1M"
      }
    },
    {
      "cell_type": "markdown",
      "source": [
        "1. What is the distance to default?\n",
        "2. What is the default probability?\n",
        "3. What is the expected recovery rate on the debt?\n",
        "Make sure to show and explain all steps."
      ],
      "metadata": {
        "id": "R9JbGXumppl0"
      }
    },
    {
      "cell_type": "markdown",
      "source": [
        "The Merton model assumes that the value of a company's assets follows a lognormal distribution. The equity can be viewed as a call option on the firm's assets with a strike price equal to the face value of the debt.\n",
        "\n",
        "Given data:\n",
        "\n",
        "$E$ (Equity value) = $4 million\n",
        "\n",
        "$σE$(Equity volatility) = 60% or 0.60\n",
        "\n",
        "$D$ (Face value of debt) = $15 million\n",
        "\n",
        "$T$ (Time to debt maturity) = 2 years\n",
        "\n",
        "$r$ (Risk-free rate) = 5.5% or 0.055"
      ],
      "metadata": {
        "id": "DNIw86bgqc1A"
      }
    },
    {
      "cell_type": "markdown",
      "source": [
        "Step-by-Step Explanation\n",
        "1. Define Constants:\n",
        "\n",
        "\n",
        "\n",
        "*   equity is the market value of the company's equity: 4 million.\n",
        "*   sigma_equity is the volatility of the equity: 60%.\n",
        "*   $rf$ is the risk-free rate: 5.5%.\n",
        "*   $debt$ is the face value of the company's debt: $15 million.\n",
        "\n",
        "*   $T$ is the time to debt maturity: 2 years.\n",
        "\n",
        "\n",
        "\n",
        "2. Set up the equations to solve for the asset value V0 and the asset volatility sigma.\n",
        "3. Optimization is used to find V0 and sigma that solve the equations.\n",
        "4. Calculate the distance to default (d2).\n",
        "5. Calculate the default probability as the cumulative distribution function of the standard normal distribution evaluated at -d2.\n",
        "6. Calculate the expected recovery rate on the debt."
      ],
      "metadata": {
        "id": "TaMJdu5Lzk6Z"
      }
    },
    {
      "cell_type": "code",
      "source": [
        "import math\n",
        "import numpy as np\n",
        "from scipy.stats import norm\n",
        "from scipy.optimize import minimize\n",
        "import warnings\n",
        "\n",
        "warnings.filterwarnings(\"ignore\")\n",
        "\n",
        "# Constants\n",
        "equity = 4\n",
        "sigma_equity = 0.60\n",
        "rf = 0.055\n",
        "debt = 15\n",
        "T = 2\n",
        "\n",
        "# Equations to solve for V0 and sigma\n",
        "def equations(vars):\n",
        "    V0, sigma = vars\n",
        "    d1 = (np.log(V0/debt) + (rf + sigma**2 / 2) * T) / (sigma * np.sqrt(T))\n",
        "    d2 = (np.log(V0/debt) + (rf - sigma**2 / 2) * T) / (sigma * np.sqrt(T))\n",
        "    eq1 = V0 * norm.cdf(d1) - debt * np.exp(-rf * T) * norm.cdf(d2) - equity\n",
        "    eq2 = V0 * sigma * norm.cdf(d1) - sigma_equity * equity\n",
        "    return np.array([eq1, eq2])\n",
        "\n",
        "def objective(vars):\n",
        "    return np.sum(equations(vars)**2)\n",
        "\n",
        "# Initial guess for V0 and sigma\n",
        "initial_guess = [equity, sigma_equity]\n",
        "\n",
        "# Constraints to ensure V0 and sigma are positive\n",
        "constraints = [{'type': 'ineq', 'fun': lambda x: x[0]},\n",
        "               {'type': 'ineq', 'fun': lambda x: x[1]}]\n",
        "\n",
        "# Minimize the objective function\n",
        "result = minimize(objective, initial_guess, constraints=constraints, bounds=[(0, None), (0, None)])\n",
        "\n",
        "# Extracting the results\n",
        "V0 = result.x[0]\n",
        "sigma = result.x[1]\n",
        "\n",
        "# Calculating d2\n",
        "d2 = (math.log(V0 / debt) + (rf - sigma**2 / 2) * T) / (sigma * math.sqrt(T))\n",
        "print(f\"The distance to default: {d2:.4f}\")\n",
        "\n",
        "# Calculating the default probability\n",
        "default_probability = norm.cdf(-d2)\n",
        "print(f\"The default probability is {default_probability:.4f}\")\n",
        "\n",
        "# Calculating the present value of debt\n",
        "PV_debt = debt * np.exp(-rf * T)\n",
        "MV_debt = V0 - equity\n",
        "\n",
        "# Calculating the expected loss\n",
        "expected_loss = (PV_debt - MV_debt) / PV_debt\n",
        "\n",
        "# Calculating the recovery rate\n",
        "recovery_rate = 1 - (expected_loss / default_probability)\n",
        "print(f\"The expected recovery rate is {recovery_rate:.4f}\")\n"
      ],
      "metadata": {
        "id": "SpDRHGg-p14o",
        "colab": {
          "base_uri": "https://localhost:8080/"
        },
        "outputId": "63f6653f-a840-4a1e-dfd5-09f295e7f5dc"
      },
      "execution_count": null,
      "outputs": [
        {
          "output_type": "stream",
          "name": "stdout",
          "text": [
            "The distance to default: 1.0087\n",
            "The default probability is 0.1565\n",
            "The expected recovery rate is 0.8948\n"
          ]
        }
      ]
    }
  ]
}