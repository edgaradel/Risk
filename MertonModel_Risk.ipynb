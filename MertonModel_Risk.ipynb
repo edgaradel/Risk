{
  "nbformat": 4,
  "nbformat_minor": 0,
  "metadata": {
    "colab": {
      "provenance": []
    },
    "kernelspec": {
      "name": "python3",
      "display_name": "Python 3"
    },
    "language_info": {
      "name": "python"
    }
  },
  "cells": [
    {
      "cell_type": "markdown",
      "source": [
        "# 1 LTCM Long-Term Capital Management"
      ],
      "metadata": {
        "id": "LCotxrdmqGHC"
      }
    },
    {
      "cell_type": "markdown",
      "source": [
        "Write short essays answering the following questions."
      ],
      "metadata": {
        "id": "3UOyhAigCimN"
      }
    },
    {
      "cell_type": "markdown",
      "source": [
        " 1. What was the broad trading strategy of LTCM?"
      ],
      "metadata": {
        "id": "t1xS-smzqAV_"
      }
    },
    {
      "cell_type": "markdown",
      "source": [
        "The core of LTCM was \"relative-value trading\" or \"convergence-arbitrage trades\". Exploiting the differences between related financial instruments, taking advantage of small differences in prices among closely related securities.\n",
        "\"Compare, for instance, an off-the-run Treasury bond yielding 6.1% versus 6.0% for the more recently issued on-the-run. The yield spread represents some compensation for liquidity risk. Over a year, a trade that is long the off-the run and short the on-the-run would be expected to return 10bp for every dollar invested. They key is that eventuallythe two bonds may converge to the same value. Thsi strategy was used in a variety of markets.$^1$\"\n",
        "\n",
        "$^1$  *Risk Management Lessons from Long-Term\n",
        "Capital Mangement. Jorion, Phillippe*"
      ],
      "metadata": {
        "id": "4M97Pf6a5LUs"
      }
    },
    {
      "cell_type": "markdown",
      "source": [
        "# 2 Merton model for credit risk"
      ],
      "metadata": {
        "id": "IBpRMtgN5NxU"
      }
    },
    {
      "cell_type": "markdown",
      "source": [
        "A company’s equity is 4 million and the volatility of equity is 60%. The face value of debt is $15 million and time to debt maturity is 2 year. The risk-free rate is 5.5%."
      ],
      "metadata": {
        "id": "AGvHJqSR5Z1M"
      }
    },
    {
      "cell_type": "markdown",
      "source": [
        "1. What is the distance to default?\n",
        "2. What is the default probability?\n",
        "3. What is the expected recovery rate on the debt?\n",
        "Make sure to show and explain all steps."
      ],
      "metadata": {
        "id": "R9JbGXumppl0"
      }
    },
    {
      "cell_type": "markdown",
      "source": [],
      "metadata": {
        "id": "DNIw86bgqc1A"
      }
    },
    {
      "cell_type": "code",
      "execution_count": null,
      "metadata": {
        "id": "2VKwjyBT5Ldu"
      },
      "outputs": [],
      "source": [
        "import math\n",
        "import numpy as np\n",
        "from scipy.stats import norm\n",
        "from scipy.optimize import minimize\n",
        "\n",
        "import warnings\n",
        "warnings.filterwarnings(\"ignore\")"
      ]
    },
    {
      "cell_type": "code",
      "source": [
        "def equations(vars):\n",
        "    V0, sigma = vars\n",
        "    d1 = (np.log(V0/debt) + (rf + sigma**2 / 2) * T) / (sigma * np.sqrt(T))\n",
        "    d2 = (np.log(V0/debt) + (rf - sigma**2 / 2) * T) / (sigma * np.sqrt(T))\n",
        "    eq1 = V0 * norm.cdf(d1) - debt * np.exp(-rf * T) * norm.cdf(d2) - equity\n",
        "    eq2 = V0 * sigma * norm.cdf(d1) - sigma_equity * equity\n",
        "    return np.array([eq1, eq2])\n",
        "\n",
        "def objective(vars):\n",
        "    return np.sum(equations(vars)**2)\n",
        "\n",
        "equity = 4\n",
        "sigma_equity = 0.60\n",
        "rf = 0.055\n",
        "debt = 15\n",
        "T = 2\n",
        "\n",
        "constraints = ({'type': 'ineq', 'fun': lambda x: x[0]},\n",
        "                {'type': 'ineq', 'fun': lambda x: x[1]})\n",
        "\n",
        "result = minimize(objective, x0=(equity, sigma_equity), constraints=constraints, bounds=[(0, None), (0, None)])\n"
      ],
      "metadata": {
        "id": "THutvbB151YL"
      },
      "execution_count": null,
      "outputs": []
    },
    {
      "cell_type": "markdown",
      "source": [
        "### 1. What is the distance to default?"
      ],
      "metadata": {
        "id": "nj6A86Tq6Aym"
      }
    },
    {
      "cell_type": "code",
      "source": [
        "V0 = result.x[0]\n",
        "sigma = result.x[1]\n",
        "d2 = (math.log(V0 / debt) + (rf - sigma**2 / 2) * T) / (sigma * math.sqrt(T))\n",
        "print(f\"The distance to default: {d2:.4f}\")"
      ],
      "metadata": {
        "colab": {
          "base_uri": "https://localhost:8080/"
        },
        "id": "BEGPBh7w5_Z5",
        "outputId": "e0dafaec-844a-4faf-8110-cbe8bf5a90b7"
      },
      "execution_count": null,
      "outputs": [
        {
          "output_type": "stream",
          "name": "stdout",
          "text": [
            "The distance to default: 1.0087\n"
          ]
        }
      ]
    },
    {
      "cell_type": "markdown",
      "source": [
        "### 2. What is the default probability?"
      ],
      "metadata": {
        "id": "vyCwn5fI6JaV"
      }
    },
    {
      "cell_type": "code",
      "source": [
        "default = norm.cdf(-d2)\n",
        "print(f\"The default probability is {default:.4f}\")"
      ],
      "metadata": {
        "colab": {
          "base_uri": "https://localhost:8080/"
        },
        "id": "UruSO6996GVn",
        "outputId": "f9b59f44-1bcb-4498-8863-4f1a80c979e1"
      },
      "execution_count": null,
      "outputs": [
        {
          "output_type": "stream",
          "name": "stdout",
          "text": [
            "The default probability is 0.1565\n"
          ]
        }
      ]
    },
    {
      "cell_type": "markdown",
      "source": [],
      "metadata": {
        "id": "ZGg61HRB66Oj"
      }
    },
    {
      "cell_type": "markdown",
      "source": [
        "### 3. What is the expected recovery rate on the debt?"
      ],
      "metadata": {
        "id": "CZ_PIz0c6k1N"
      }
    },
    {
      "cell_type": "code",
      "source": [
        "PV_debt = debt / (1+rf/2)**(2*T)\n",
        "MV_debt = V0 - equity\n",
        "expected_loss = -(MV_debt - PV_debt) / PV_debt\n",
        "recovery = 1 - expected_loss / default\n",
        "print(f\"The expected recovery rate is {recovery:.4f}\")"
      ],
      "metadata": {
        "colab": {
          "base_uri": "https://localhost:8080/"
        },
        "id": "XzHq3Kw_6g8S",
        "outputId": "61c7bc47-82e3-4371-d028-334aed79737c"
      },
      "execution_count": null,
      "outputs": [
        {
          "output_type": "stream",
          "name": "stdout",
          "text": [
            "The expected recovery rate is 0.8855\n"
          ]
        }
      ]
    },
    {
      "cell_type": "code",
      "source": [],
      "metadata": {
        "id": "SpDRHGg-p14o"
      },
      "execution_count": null,
      "outputs": []
    }
  ]
}