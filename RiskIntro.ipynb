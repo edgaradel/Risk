{
  "nbformat": 4,
  "nbformat_minor": 0,
  "metadata": {
    "colab": {
      "provenance": []
    },
    "kernelspec": {
      "name": "python3",
      "display_name": "Python 3"
    },
    "language_info": {
      "name": "python"
    }
  },
  "cells": [
    {
      "cell_type": "markdown",
      "source": [
        "# VaR for an exponential distribution"
      ],
      "metadata": {
        "id": "Pbj_kbwoZ8ZH"
      }
    },
    {
      "cell_type": "markdown",
      "source": [
        "For W $\\ge$0, the random variable W following an exponential distribution with mean $w_0$ has the probability density function"
      ],
      "metadata": {
        "id": "BqTZGXGqaAry"
      }
    },
    {
      "cell_type": "markdown",
      "source": [
        "\\begin{align}\n",
        "f(w) = \\frac{1 \\,}{W_0}e^{-\\frac{w \\,}{W_0}}\n",
        "\\end{align}"
      ],
      "metadata": {
        "id": "hxO14Ghyds3K"
      }
    },
    {
      "cell_type": "markdown",
      "source": [
        "and cumulative distribution function"
      ],
      "metadata": {
        "id": "DVKnoa48fVPu"
      }
    },
    {
      "cell_type": "markdown",
      "source": [
        "\\begin{align}\n",
        "F(w) = {1- \\,}e^{-\\frac{w \\,}{W_0}}\n",
        "\\end{align}"
      ],
      "metadata": {
        "id": "rPKR5ycwfdCi"
      }
    },
    {
      "cell_type": "markdown",
      "source": [
        "This is because a random variable"
      ],
      "metadata": {
        "id": "-arPkCj8f5sr"
      }
    },
    {
      "cell_type": "code",
      "execution_count": 1,
      "metadata": {
        "id": "4E8Q6EyhZ6Tw"
      },
      "outputs": [],
      "source": [
        "import numpy as np\n",
        "import scipy.stats\n",
        "import matplotlib.pyplot as plt\n",
        "from scipy.integrate import quad"
      ]
    },
    {
      "cell_type": "code",
      "source": [
        "100*(1 + np.log(0.99))"
      ],
      "metadata": {
        "colab": {
          "base_uri": "https://localhost:8080/"
        },
        "id": "HeHHnr71ljpm",
        "outputId": "8a0bc4a9-1f9b-429f-d1cd-d7576e62a354"
      },
      "execution_count": 2,
      "outputs": [
        {
          "output_type": "execute_result",
          "data": {
            "text/plain": [
              "98.99496641464985"
            ]
          },
          "metadata": {},
          "execution_count": 2
        }
      ]
    }
  ]
}