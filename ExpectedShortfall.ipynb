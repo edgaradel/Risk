{
  "nbformat": 4,
  "nbformat_minor": 0,
  "metadata": {
    "colab": {
      "provenance": []
    },
    "kernelspec": {
      "name": "python3",
      "display_name": "Python 3"
    },
    "language_info": {
      "name": "python"
    }
  },
  "cells": [
    {
      "cell_type": "code",
      "source": [
        "import os\n",
        "import pandas as pd\n",
        "import numpy as np\n",
        "import math as math\n",
        "import scipy.stats as stats\n",
        "from scipy.stats import expon\n",
        "from scipy.integrate import quad\n",
        "import matplotlib.pyplot as plt\n",
        "from scipy.stats import norm"
      ],
      "metadata": {
        "id": "6JMgloF6k9jG"
      },
      "execution_count": 1,
      "outputs": []
    },
    {
      "cell_type": "markdown",
      "source": [
        "##Expected shortfall"
      ],
      "metadata": {
        "id": "b7tKY2bME-NE"
      }
    },
    {
      "cell_type": "markdown",
      "source": [
        "Average of the $[(1 - c) * n]$ worst realizations"
      ],
      "metadata": {
        "id": "I6VkxGcIQqOh"
      }
    },
    {
      "cell_type": "markdown",
      "source": [
        " Derive a formula for the expected shortfall if gains are normally distributed $N(\\mu, \\sigma^{2})$."
      ],
      "metadata": {
        "id": "T8V6AG6PFEIv"
      }
    },
    {
      "cell_type": "markdown",
      "source": [
        "Normal Distribution:\n",
        "\\begin{equation}\n",
        "f(x) = \\frac{1}{\\sqrt{2\\pi\\sigma^2}}e^{-\\frac{(x-\\mu)^2}{2\\sigma^2}}\n",
        "\\end{equation}\n",
        "\n",
        "\\begin{equation}\n",
        "F(x) = \\frac{1}{\\sqrt{2\\pi\\sigma^2}}\\int_{-\\infty}^x e^{-\\frac{(t-\\mu)^2}{2\\sigma^2}} dt\n",
        "\\end{equation}\n",
        "\n",
        "$$E[X] = \\mu, Var[X] = \\sigma^2$$\n",
        "\n",
        "Expected Shortfall:\\begin{align*}\n",
        "ES_{\\alpha} &= W_0-E[W|W<W_0-VAR]\\\\\n",
        "& = W_0-\\frac{\\int_{-\\infty}^{W_0-VAR}Wf(W)dW}{\\int_{-\\infty}^{W_0-VAR}f(W)dW}\\\\\n",
        "\\end{align*}\n",
        "\n",
        "Derive the formula: Let \\begin{align*}\n",
        "y = \\frac{x-\\mu}{\\sigma}\n",
        "\\end{align*}\n",
        "We can get \\begin{align*}\n",
        "dy = \\frac{dx}{\\sigma}, x = {\\sigma}y + \\mu, dx = {\\sigma}dy\n",
        "\\end{align*}\n",
        "Then\n",
        "$$\n",
        "\\begin{aligned}\n",
        "ES_{\\alpha} &=\\frac{1}{\\sqrt{2 \\pi \\sigma^2}} \\int_{-\\infty}^{\\mu-VaR_\\alpha} x \\cdot \\exp \\left(-\\frac{(x-\\mu)^2}{2 \\sigma^2}\\right) d x \\\\\n",
        "= & \\frac{1}{\\sqrt{2 \\pi \\sigma^2}} \\int(\\sigma y+\\mu) \\cdot \\exp \\left(-\\frac{(\\sigma y+\\mu-\\mu)^2}{2 \\sigma^2}\\right) \\sigma d y \\\\\n",
        "= & \\frac{1}{\\sqrt{2 \\pi \\sigma^2}} \\int(\\sigma y+\\mu) \\exp \\left(-\\frac{y^2}{2}\\right) \\sigma d y \\\\\n",
        "= & \\frac{1}{\\sqrt{2 \\pi \\sigma^2}} \\int \\sigma^2 y \\exp \\left(-\\frac{y^2}{2}\\right) d y+\\frac{1}{\\sqrt{2 \\pi \\sigma^2}} \\int \\sigma \\mu \\exp \\left(-\\frac{y^2}{2}\\right) d y \\\\\n",
        "= & \\mu \\int_{-\\infty}^{y_0-V a R_{(0,1)}} \\frac{1}{\\sqrt{2 \\pi}} \\exp \\left(-\\frac{y^2}{2}\\right) d y+\\sigma \\int_{-\\infty}^{y_0-V a R_{(0,1)}} \\frac{1}{\\sqrt{2 \\pi}} y \\exp \\left(-\\frac{y^2}{2}\\right) d y\n",
        "\\end{aligned}\n",
        "$$\n",
        "Since\n",
        "$$\\begin{aligned}\n",
        "y_0 = 0, VaR_\\alpha = -z(1-\\alpha)=-z(c))\n",
        "\\end{aligned}$$\n",
        "We continue deriving the above formula, and we can abtain\n",
        "$$\n",
        "\\begin{aligned}\n",
        "= & \\mu \\cdot(1-c)+\\left.\\sigma \\cdot \\frac{-1}{\\sqrt{2 \\pi}} \\cdot e^{\\frac{-y^2}{2}}\\right|_{\\infty} ^{z(c)} \\\\\n",
        "= & \\mu \\cdot(1-c)+\\sigma \\cdot \\frac{-1}{\\sqrt{2 \\pi}} e^{-z(c)^2 / 2}\n",
        "\\end{aligned}\n",
        "$$\n",
        "Finally, we can get\n",
        "$$\n",
        "E S=y_0-\\frac{\\mu \\cdot(1-c)+\\sigma \\cdot \\frac{-1}{\\sqrt{2 \\pi}} e^{-z(c)^2 / 2}}{1-c}=-\\mu+\\sigma \\cdot \\frac{1}{\\sqrt{2 \\pi}(1-c)} e^{-z(c)^2 / 2}\n",
        "$$"
      ],
      "metadata": {
        "id": "Tvii7iymFNri"
      }
    },
    {
      "cell_type": "markdown",
      "source": [
        "The expected shortfall can also be defined as the average of the VaR for all confidence level above c: $ES = \\frac{1}{1-c}\\int_{c}^{1} VaR_{\\alpha}d\\alpha$ Prove that this definition is equivalent to the one we have seen in class. Hint: You can use integration by part and a change of variable."
      ],
      "metadata": {
        "id": "daxvzuCOFhdp"
      }
    },
    {
      "cell_type": "markdown",
      "source": [
        "From the definition of VaR and ES, we get\n",
        "\\begin{aligned}\n",
        "E S & =\\frac{1}{1-c} \\int_c^1 V a R_\\alpha d \\alpha \\\\\n",
        "& =\\frac{1}{1-c} \\int_c^1 W_0-F^{-1}(1-\\alpha) d \\alpha \\\\\n",
        "& =W_0-\\frac{1}{1-c} \\int_c^1 F^{-1}(1-\\alpha) d \\alpha\n",
        "\\end{aligned}\n",
        "Cause$$\n",
        "\\begin{aligned}\n",
        "W=F^{-1}(1-\\alpha)\n",
        "\\end{aligned}\n",
        "$$\n",
        "We have\n",
        "$$\n",
        "d W=-\\frac{1}{F^{\\prime}\\left(F^{-1}(1-\\alpha)\\right)} d \\alpha=-\\frac{1}{f\\left(F^{-1}(1-\\alpha)\\right)} d \\alpha\n",
        "$$\n",
        "Since\n",
        "$$\n",
        "d \\alpha=-f\\left(F^{-1}(1-\\alpha)\\right) d W=-f(W) d W\n",
        "$$\n",
        "and\n",
        "$$F^{-1}(1-1)=-\\infty, F^{-1}(1-c)=W_0-V a R$$\n",
        "We have\n",
        "$$\n",
        "\\begin{aligned}\n",
        "& W_0-\\frac{1}{1-c} \\int_c^1 F^{-1}(1-\\alpha) d \\alpha \\\\\n",
        "= & W_0-\\frac{1}{1-c} \\int_{W_0-V a R}^{-\\infty}-W f(W) d W \\\\\n",
        "= & W_0-\\frac{1}{1-c} \\int_{-\\infty}^{W_0-V a R} W f(W) d W\n",
        "\\end{aligned}\n",
        "$$"
      ],
      "metadata": {
        "id": "2Ex1mAzWF1pz"
      }
    },
    {
      "cell_type": "markdown",
      "source": [
        " ## Decomposing the VaR of a portfolio"
      ],
      "metadata": {
        "id": "KfKLqX5EF-IR"
      }
    },
    {
      "cell_type": "markdown",
      "source": [
        "part 1"
      ],
      "metadata": {
        "id": "Si36BsJywFxT"
      }
    },
    {
      "cell_type": "markdown",
      "source": [
        "Assume you have a portfolio of 2m in asset A, 6m in asset B and 2m in\n",
        "asset C. What is the VaR of your portfolio? What is the CVaR and DVaR\n",
        "for each of the assets? Check that the sum of CVaRs coincides with VaR.\n",
        "Which asset is responsible for the most risk of the portfolio?"
      ],
      "metadata": {
        "id": "B_vk0DGZv24X"
      }
    },
    {
      "cell_type": "markdown",
      "source": [
        "**Function draw_returns(N)**\n",
        "\n",
        "This function simulates returns for a portfolio of three assets over\n",
        "$𝑁$ periods, distinguishing between normal and special (crisis) years:\n",
        "\n",
        "*normal_year:* A binomial distribution to simulate 90% normal years and 10% special years.\n",
        "\n",
        "*normal_ret*: Multivariate normal returns for normal years.\n",
        "\n",
        "*special_ret*: Multivariate normal returns for special years.\n",
        "\n",
        "The function then combines these to create a series of returns for the portfolio."
      ],
      "metadata": {
        "id": "vK8MFthvV2ia"
      }
    },
    {
      "cell_type": "code",
      "execution_count": 2,
      "metadata": {
        "id": "6LsD27HJE0cX"
      },
      "outputs": [],
      "source": [
        "def draw_returns(N):\n",
        "\n",
        "    # coin flips\n",
        "    normal_year = np.random.binomial(1, 0.9, N)\n",
        "\n",
        "    # draw for normal years\n",
        "    mu = np.array([0.05, 0.05, 0.05])\n",
        "    Sigma = np.array([[0.09, 0.012, 0.021], [0.012, 0.16, 0.028], [0.021, 0.028, 0.49]])\n",
        "    normal_ret = np.random.multivariate_normal(mu, Sigma, N)\n",
        "\n",
        "    # draws for special years\n",
        "    mu = np.array([-0.1, -0.1, -0.1])\n",
        "    Sigma = np.array([[0.36, 0.24, 0.42], [0.24, 0.64, 0.56], [0.42, 0.56, 1.96]])\n",
        "    special_ret = np.random.multivariate_normal(mu, Sigma, N)\n",
        "\n",
        "    # combine\n",
        "    ret = normal_ret\n",
        "    for i in range(N):\n",
        "        if normal_year[i] == 0:\n",
        "            ret[i,:] = special_ret[i,:]\n",
        "\n",
        "    return(ret)"
      ]
    },
    {
      "cell_type": "markdown",
      "source": [
        "First, for the VaR:"
      ],
      "metadata": {
        "id": "xoE7Tod2xFFu"
      }
    },
    {
      "cell_type": "markdown",
      "source": [
        "**Portfolio_profit(returns, holdings)**\n",
        "\n",
        "This function calculates the profit of a portfolio given returns and holdings:\n",
        "np.dot(returns, holdings): Computes the dot product, which gives the total profit for each set of returns.\n",
        "\n",
        "**VaR_from_gains(gains, c=0.99)**\n",
        "This function calculates the Value at Risk (VaR) at confidence level\n",
        "$c$:\n",
        "\n",
        "VaR is the maximum expected loss over a given time period at a specific confidence level. It sorts the gains and selects the appropriate quantile based on $c$."
      ],
      "metadata": {
        "id": "sgrN7Fp7LV9k"
      }
    },
    {
      "cell_type": "markdown",
      "source": [
        "**Portfolio Analysis**\n",
        "\n",
        "*Initial Holdings:*\n",
        "\n",
        "holdings_Q1=[2000,6000,2000]\n",
        "\n",
        "holdings_Q1=[2000,6000,2000]\n",
        "\n",
        "in thousands of dollars.\n",
        "\n",
        "**Gains:** Profits from the portfolio given the simulated returns and holdings.\n",
        "\n",
        "**VaR_Q1**: The Value at Risk for the portfolio with the initial holdings.\n",
        "\n",
        "Delta VaR (DVaR) Calculations\n",
        "The effect of increasing the position in each asset by $1000 on VaR:\n",
        "\n",
        "DVaR_A: Change in VaR when increasing the first asset’s holdings.\n",
        "\n",
        "DVaR_B: Change in VaR for the second asset.\n",
        "\n",
        "DVaR_C: Change in VaR for the third asset.\n",
        "\n",
        "Conditional Value at Risk (CVaR)\n",
        "CVaR (also called Expected Shortfall) measures the average loss given that the loss exceeds the VaR. It provides a more comprehensive risk measure.\n",
        "\n",
        "**The calculation:**\n",
        "\n",
        "Delta: A small increment in asset holdings (0.01 or 1%).\n",
        "\n",
        "CVaR_A: The conditional VaR for the first asset when its holdings are increased slightly.\n",
        "\n",
        "**Context:** Value at Risk (VaR) and Conditional Value at Risk (CVaR)\n",
        "VaR is a threshold value such that the probability that the loss on the portfolio over the given time horizon exceeds this value is the confidence level (e.g., 99%).\n",
        "CVaR takes this a step further by considering the tail of the loss distribution beyond the VaR, providing a measure of the expected loss in extreme scenarios. It's especially useful in risk management for understanding the potential impact of rare, but severe, losses."
      ],
      "metadata": {
        "id": "Ak0ASb-H-imz"
      }
    },
    {
      "cell_type": "code",
      "source": [
        "np.random.seed(1234)\n",
        "\n",
        "# Generate portfolio profits (in 1000 $)\n",
        "rets = draw_returns(10000)\n",
        "\n",
        "def portfolio_profit(returns, holdings):\n",
        "  return(np.dot(returns, holdings))\n",
        "\n",
        "holdings_Q1 = np.array([2000, 6000, 2000]) # in 1000 $\n",
        "\n",
        "# Let W0 = 0\n",
        "gains = portfolio_profit(rets, holdings_Q1)\n",
        "def VaR_from_gains(gains, c=0.99):\n",
        "  n = len(gains)\n",
        "  sort = sorted(gains)\n",
        "  VaR = -sort[math.ceil(n * (1-c))-1]\n",
        "  return(VaR)\n",
        "\n",
        "VaR_Q1 = VaR_from_gains(gains)\n",
        "VaR_Q1\n",
        "# VaR is around 10 million $"
      ],
      "metadata": {
        "colab": {
          "base_uri": "https://localhost:8080/"
        },
        "id": "MTbAh0A6wxfe",
        "outputId": "463b2aeb-3a1c-4810-8f37-edd9d1b3c699"
      },
      "execution_count": 3,
      "outputs": [
        {
          "output_type": "execute_result",
          "data": {
            "text/plain": [
              "9956.983483145892"
            ]
          },
          "metadata": {},
          "execution_count": 3
        }
      ]
    },
    {
      "cell_type": "markdown",
      "source": [
        "Assuming $W_0$ = 0, the VaR is 9956.983483145892."
      ],
      "metadata": {
        "id": "CE6pdltCGK8P"
      }
    },
    {
      "cell_type": "markdown",
      "source": [
        "Let’s start with DVaR by adding some 1k to the holdings of any one stock."
      ],
      "metadata": {
        "id": "Ooxjuqr8GYml"
      }
    },
    {
      "cell_type": "code",
      "source": [
        "# asset A: first we add 1000 $ to the first asset holdings\n",
        "Delta = 1\n",
        "\n",
        "VaR_new = VaR_from_gains(portfolio_profit(rets, holdings_Q1 + np.array([Delta, 0, 0])))\n",
        "DVaR_A = (VaR_new - VaR_Q1)/Delta\n",
        "\n",
        "# VaR increases by 307 $ if we increase position in first asset by 1000$\n",
        "\n",
        "# asset B:\n",
        "\n",
        "VaR_new = VaR_from_gains(portfolio_profit(rets, holdings_Q1 + np.array([0, Delta, 0])))\n",
        "DVaR_B = (VaR_new - VaR_Q1)/Delta\n",
        "\n",
        "DVaR_B\n",
        "\n",
        "# VaR increases by 1011 $ if we increase position in second asset by 1000$\n",
        "# asset C:"
      ],
      "metadata": {
        "colab": {
          "base_uri": "https://localhost:8080/"
        },
        "id": "ug13RXbAJo-a",
        "outputId": "f026400c-af44-430f-dfac-7506822e27eb"
      },
      "execution_count": 4,
      "outputs": [
        {
          "output_type": "execute_result",
          "data": {
            "text/plain": [
              "0.6708504808684665"
            ]
          },
          "metadata": {},
          "execution_count": 4
        }
      ]
    },
    {
      "cell_type": "code",
      "source": [
        "VaR_new = VaR_from_gains(portfolio_profit(rets, holdings_Q1 + np.array([0, 0, Delta])))\n",
        "DVaR_C = (VaR_new - VaR_Q1)/Delta\n",
        "DVaR_C\n",
        "# VaR increases by 2072 $ if we increase position in third asset by 1000$"
      ],
      "metadata": {
        "colab": {
          "base_uri": "https://localhost:8080/"
        },
        "id": "NXR-7pC6OoB9",
        "outputId": "db97d6f7-6a34-4eca-b7f4-5afba43a4758"
      },
      "execution_count": 5,
      "outputs": [
        {
          "output_type": "execute_result",
          "data": {
            "text/plain": [
              "2.034937238724524"
            ]
          },
          "metadata": {},
          "execution_count": 5
        }
      ]
    },
    {
      "cell_type": "markdown",
      "source": [
        "Note that these are numerical approximations to a derivative.\n",
        "\n",
        "Now for CVaR, by changing holdings by 1%."
      ],
      "metadata": {
        "id": "-0hXMDIVOuo2"
      }
    },
    {
      "cell_type": "code",
      "source": [
        "# asset A: first we add 1000 $ to the first asset holdings\n",
        "Delta = 0.01\n",
        "VaR_new = VaR_from_gains(portfolio_profit(rets, holdings_Q1 * np.array([1 + Delta, 1, 1])))\n",
        "CVaR_A = 100*(VaR_new - VaR_Q1)\n",
        "CVaR_A\n",
        "\n",
        "# asset B:"
      ],
      "metadata": {
        "colab": {
          "base_uri": "https://localhost:8080/"
        },
        "id": "RQ8s0OTUO7oF",
        "outputId": "c8d053fe-869b-431b-c977-61207cb1be17"
      },
      "execution_count": 6,
      "outputs": [
        {
          "output_type": "execute_result",
          "data": {
            "text/plain": [
              "1862.00612048724"
            ]
          },
          "metadata": {},
          "execution_count": 6
        }
      ]
    },
    {
      "cell_type": "code",
      "source": [
        "VaR_new = VaR_from_gains(portfolio_profit(rets, holdings_Q1 * np.array([1, 1 + Delta, 1])))\n",
        "CVaR_B = 100*(VaR_new - VaR_Q1)\n",
        "CVaR_B\n",
        "# asset C:"
      ],
      "metadata": {
        "colab": {
          "base_uri": "https://localhost:8080/"
        },
        "id": "Yg24gDZgOObB",
        "outputId": "f0deb45c-ba13-4ff3-8c19-882cec544c8f"
      },
      "execution_count": 7,
      "outputs": [
        {
          "output_type": "execute_result",
          "data": {
            "text/plain": [
              "4025.1028852100717"
            ]
          },
          "metadata": {},
          "execution_count": 7
        }
      ]
    },
    {
      "cell_type": "code",
      "source": [
        "VaR_new = VaR_from_gains(portfolio_profit(rets, holdings_Q1 * np.array([1, 1, 1 + Delta])))\n",
        "CVaR_C = 100*(VaR_new - VaR_Q1)\n",
        "CVaR_C"
      ],
      "metadata": {
        "colab": {
          "base_uri": "https://localhost:8080/"
        },
        "id": "MYMwGMa8OxIm",
        "outputId": "9b8be1a7-195a-495e-f313-71b7210d2428"
      },
      "execution_count": 8,
      "outputs": [
        {
          "output_type": "execute_result",
          "data": {
            "text/plain": [
              "4069.874477448866"
            ]
          },
          "metadata": {},
          "execution_count": 8
        }
      ]
    },
    {
      "cell_type": "code",
      "source": [
        "## Check sum(CVaR) = VaR\n",
        "(CVaR_A + CVaR_B + CVaR_C)/VaR_new\n",
        "# small deviation arises from numerical differentiation"
      ],
      "metadata": {
        "colab": {
          "base_uri": "https://localhost:8080/"
        },
        "id": "eKxQb-vkO3bJ",
        "outputId": "6bbe0afd-58ee-4dd6-efcf-c0e94add939c"
      },
      "execution_count": 9,
      "outputs": [
        {
          "output_type": "execute_result",
          "data": {
            "text/plain": [
              "0.9959291819997494"
            ]
          },
          "metadata": {},
          "execution_count": 9
        }
      ]
    },
    {
      "cell_type": "markdown",
      "source": [
        "This is a numerical approximation, and as observed, there is a significant deviation."
      ],
      "metadata": {
        "id": "86OsvhsZPCVy"
      }
    },
    {
      "cell_type": "markdown",
      "source": [
        "When you approximate the derivatives involved in DVaR and CVaR, vary\n",
        "the size of the position change you use. What do you observe when you\n",
        "change the value? Report a graph that shows the effect of different size of\n",
        "the step for the derivative. Explain what is happening."
      ],
      "metadata": {
        "id": "srzCdmu8umnZ"
      }
    },
    {
      "cell_type": "markdown",
      "source": [
        "How does this depend on Delta. Below you can see show how large the deviation between the sum of CVaR and VaR is for different levels of Delta 0.001%, 0.01%, 0.1%, 1%, and 10%. The smaller Delta, the more precise the result"
      ],
      "metadata": {
        "id": "0TTlu3Y5wntd"
      }
    },
    {
      "cell_type": "code",
      "source": [
        "def deviation(Delta):\n",
        "  # Asset A\n",
        "  VaR_new = VaR_from_gains(portfolio_profit(rets, holdings_Q1 * np.array([1, 1, 1 + Delta])))\n",
        "  CVaR_A = (VaR_new - VaR_Q1)/Delta\n",
        "  # Asset B\n",
        "  VaR_new = VaR_from_gains(portfolio_profit(rets, holdings_Q1 * np.array([1, 1, 1 + Delta])))\n",
        "  CVaR_B = (VaR_new - VaR_Q1)/Delta\n",
        "  # Asset C\n",
        "  VaR_new = VaR_from_gains(portfolio_profit(rets, holdings_Q1 * np.array([1, 1, 1 + Delta])))\n",
        "  CVaR_C = (VaR_new - VaR_Q1)/Delta\n",
        "\n",
        "  return(np.absolute(CVaR_A + CVaR_B + CVaR_C - VaR_new)/VaR_new)\n",
        "\n",
        "\n",
        "Deltas = np.array([0.00001, 0.0001, 0.001, 0.01, 0.1])\n",
        "deviations = [deviation(Delta) for Delta in Deltas]\n",
        "\n",
        "plt.plot(Deltas, deviations, 'o')\n",
        "plt.xscale('log')\n",
        "plt.show()\n"
      ],
      "metadata": {
        "colab": {
          "base_uri": "https://localhost:8080/",
          "height": 434
        },
        "id": "lv49h4Nqxa9o",
        "outputId": "5fe9dd9e-e469-4ee4-a482-dc1301df0293"
      },
      "execution_count": 11,
      "outputs": [
        {
          "output_type": "display_data",
          "data": {
            "text/plain": [
              "<Figure size 640x480 with 1 Axes>"
            ],
            "image/png": "[encoded data removed]"
          },
          "metadata": {}
        }
      ]
    },
    {
      "cell_type": "markdown",
      "source": [
        "part 3"
      ],
      "metadata": {
        "id": "i_f3-rru7R5Y"
      }
    },
    {
      "cell_type": "markdown",
      "source": [
        "what happens when we hold 2mn $ in both asset A and B, vis-a-vis 1mn and 3mn in A and B. In particular, is this going to affect the DVaR or CVaR for asset C (the holdings and portfolio weights of asset C are)"
      ],
      "metadata": {
        "id": "CCiDItxg7auJ"
      }
    },
    {
      "cell_type": "code",
      "source": [
        "holdings_Q3 = np.array([3000, 5000, 2000]) # in 1000 $\n",
        "gains = portfolio_profit(rets, holdings_Q3)\n",
        "VaR_Q3 = VaR_from_gains(gains)\n",
        "VaR_Q3"
      ],
      "metadata": {
        "colab": {
          "base_uri": "https://localhost:8080/"
        },
        "id": "2GG1wvWv7VGD",
        "outputId": "751aa949-b8c8-4c41-c325-68da779be50a"
      },
      "execution_count": 13,
      "outputs": [
        {
          "output_type": "execute_result",
          "data": {
            "text/plain": [
              "9565.547422197978"
            ]
          },
          "metadata": {},
          "execution_count": 13
        }
      ]
    },
    {
      "cell_type": "code",
      "source": [
        "Delta = 1\n",
        "VaR_new = VaR_from_gains(portfolio_profit(rets, holdings_Q3 + np.array([0, 0, Delta])))\n",
        "DVaR_C = (VaR_new - VaR_Q3)/Delta\n",
        "DVaR_C\n",
        "# VaR increases if we increase position in third asset"
      ],
      "metadata": {
        "colab": {
          "base_uri": "https://localhost:8080/"
        },
        "id": "TljBBuYp70p1",
        "outputId": "c22b6a55-e646-469f-f976-3179fedee613"
      },
      "execution_count": 14,
      "outputs": [
        {
          "output_type": "execute_result",
          "data": {
            "text/plain": [
              "3.2698732136959734"
            ]
          },
          "metadata": {},
          "execution_count": 14
        }
      ]
    },
    {
      "cell_type": "code",
      "source": [
        "Delta = 0.01\n",
        "VaR_new = VaR_from_gains(portfolio_profit(rets, holdings_Q3 * np.array([1, 1, 1 + Delta])))\n",
        "CVaR_C = 100*(VaR_new - VaR_Q3)\n",
        "CVaR_C"
      ],
      "metadata": {
        "colab": {
          "base_uri": "https://localhost:8080/"
        },
        "id": "Q4YI1pp09UQl",
        "outputId": "7f542adf-243c-42d3-d254-8ed46dd12589"
      },
      "execution_count": 15,
      "outputs": [
        {
          "output_type": "execute_result",
          "data": {
            "text/plain": [
              "6539.746427393948"
            ]
          },
          "metadata": {},
          "execution_count": 15
        }
      ]
    },
    {
      "cell_type": "markdown",
      "source": [
        "Possibility"
      ],
      "metadata": {
        "id": "2SnKJeCBBvt3"
      }
    },
    {
      "cell_type": "code",
      "source": [
        "import numpy as np\n",
        "import math\n",
        "import matplotlib.pyplot as plt\n",
        "\n",
        "np.random.seed(1234)\n",
        "\n",
        "# Assuming the function draw_returns(N) is defined elsewhere and returns a (N, 3) matrix of simulated returns.\n",
        "rets = draw_returns(10000)\n",
        "\n",
        "def portfolio_profit(returns, holdings):\n",
        "    \"\"\"\n",
        "    Calculate the profit of a portfolio given returns and holdings.\n",
        "\n",
        "    Parameters:\n",
        "    returns (numpy array): Array of returns.\n",
        "    holdings (numpy array): Array of holdings in thousands of dollars.\n",
        "\n",
        "    Returns:\n",
        "    float: The total profit for the portfolio.\n",
        "    \"\"\"\n",
        "    return np.dot(returns, holdings)\n",
        "\n",
        "holdings_Q1 = np.array([2000, 6000, 2000])  # in 1000 $\n",
        "\n",
        "gains = portfolio_profit(rets, holdings_Q1)\n",
        "\n",
        "def VaR_from_gains(gains, c=0.99):\n",
        "    \"\"\"\n",
        "    Calculate the Value at Risk (VaR) for given portfolio gains at confidence level c.\n",
        "\n",
        "    Parameters:\n",
        "    gains (numpy array): Array of portfolio gains.\n",
        "    c (float): Confidence level for VaR calculation (default is 0.99).\n",
        "\n",
        "    Returns:\n",
        "    float: The VaR value.\n",
        "    \"\"\"\n",
        "    n = len(gains)\n",
        "    sort = sorted(gains)\n",
        "    VaR = -sort[math.ceil(n * (1 - c)) - 1]\n",
        "    return VaR\n",
        "\n",
        "VaR_Q1 = VaR_from_gains(gains)\n",
        "print(\"VaR for holdings_Q1:\", VaR_Q1)\n",
        "\n",
        "# Delta VaR (DVaR) Calculations\n",
        "Delta = 1\n",
        "\n",
        "# Asset A\n",
        "VaR_new_A = VaR_from_gains(portfolio_profit(rets, holdings_Q1 + np.array([Delta, 0, 0])))\n",
        "DVaR_A = (VaR_new_A - VaR_Q1) / Delta\n",
        "print(\"DVaR_A:\", DVaR_A)\n",
        "\n",
        "# Asset B\n",
        "VaR_new_B = VaR_from_gains(portfolio_profit(rets, holdings_Q1 + np.array([0, Delta, 0])))\n",
        "DVaR_B = (VaR_new_B - VaR_Q1) / Delta\n",
        "print(\"DVaR_B:\", DVaR_B)\n",
        "\n",
        "# Asset C\n",
        "VaR_new_C = VaR_from_gains(portfolio_profit(rets, holdings_Q1 + np.array([0, 0, Delta])))\n",
        "DVaR_C = (VaR_new_C - VaR_Q1) / Delta\n",
        "print(\"DVaR_C:\", DVaR_C)\n",
        "\n",
        "# Conditional Value at Risk (CVaR) Calculations\n",
        "Delta = 0.01\n",
        "\n",
        "# Asset A\n",
        "VaR_new_A = VaR_from_gains(portfolio_profit(rets, holdings_Q1 * np.array([1 + Delta, 1, 1])))\n",
        "CVaR_A = 100 * (VaR_new_A - VaR_Q1)\n",
        "print(\"CVaR_A:\", CVaR_A)\n",
        "\n",
        "# Asset B\n",
        "VaR_new_B = VaR_from_gains(portfolio_profit(rets, holdings_Q1 * np.array([1, 1 + Delta, 1])))\n",
        "CVaR_B = 100 * (VaR_new_B - VaR_Q1)\n",
        "print(\"CVaR_B:\", CVaR_B)\n",
        "\n",
        "# Asset C\n",
        "VaR_new_C = VaR_from_gains(portfolio_profit(rets, holdings_Q1 * np.array([1, 1, 1 + Delta])))\n",
        "CVaR_C = 100 * (VaR_new_C - VaR_Q1)\n",
        "print(\"CVaR_C:\", CVaR_C)\n",
        "\n",
        "# Checking the sum of CVaRs against VaR\n",
        "cvar_sum_deviation = (CVaR_A + CVaR_B + CVaR_C) / VaR_new_C\n",
        "print(\"Sum of CVaR deviations:\", cvar_sum_deviation)\n",
        "\n",
        "def deviation(Delta):\n",
        "    \"\"\"\n",
        "    Calculate the deviation between the sum of CVaRs and VaR for different deltas.\n",
        "\n",
        "    Parameters:\n",
        "    Delta (float): The small increment in asset holdings.\n",
        "\n",
        "    Returns:\n",
        "    float: The deviation value.\n",
        "    \"\"\"\n",
        "    # Asset A\n",
        "    VaR_new_A = VaR_from_gains(portfolio_profit(rets, holdings_Q1 * np.array([1 + Delta, 1, 1])))\n",
        "    CVaR_A = (VaR_new_A - VaR_Q1) / Delta\n",
        "\n",
        "    # Asset B\n",
        "    VaR_new_B = VaR_from_gains(portfolio_profit(rets, holdings_Q1 * np.array([1, 1 + Delta, 1])))\n",
        "    CVaR_B = (VaR_new_B - VaR_Q1) / Delta\n",
        "\n",
        "    # Asset C\n",
        "    VaR_new_C = VaR_from_gains(portfolio_profit(rets, holdings_Q1 * np.array([1, 1, 1 + Delta])))\n",
        "    CVaR_C = (VaR_new_C - VaR_Q1) / Delta\n",
        "\n",
        "    # Return the deviation as a percentage\n",
        "    return np.abs(CVaR_A + CVaR_B + CVaR_C - VaR_new_C) / VaR_new_C\n",
        "\n",
        "# Analyze the deviation for different Delta values\n",
        "Deltas = np.array([0.00001, 0.0001, 0.001, 0.01, 0.1])\n",
        "deviations = [deviation(Delta) for Delta in Deltas]\n",
        "\n",
        "plt.plot(Deltas, deviations, 'o')\n",
        "plt.xscale('log')\n",
        "plt.xlabel('Delta')\n",
        "plt.ylabel('Deviation from VaR')\n",
        "plt.title('Deviation of Sum(CVaR) from VaR for Different Deltas')\n",
        "plt.show()\n",
        "\n",
        "# Analysis with different holdings\n",
        "holdings_Q3 = np.array([3000, 5000, 2000])  # in 1000 $\n",
        "gains_Q3 = portfolio_profit(rets, holdings_Q3)\n",
        "VaR_Q3 = VaR_from_gains(gains_Q3)\n",
        "print(\"VaR for holdings_Q3:\", VaR_Q3)\n",
        "\n",
        "# DVaR for Asset C with new holdings\n",
        "Delta = 1\n",
        "VaR_new_C = VaR_from_gains(portfolio_profit(rets, holdings_Q3 + np.array([0, 0, Delta])))\n",
        "DVaR_C = (VaR_new_C - VaR_Q3) / Delta\n",
        "print(\"DVaR_C for holdings_Q3:\", DVaR_C)\n",
        "\n",
        "# CVaR for Asset C with new holdings\n",
        "Delta = 0.01\n",
        "VaR_new_C = VaR_from_gains(portfolio_profit(rets, holdings_Q3 * np.array([1, 1, 1 + Delta])))\n",
        "CVaR_C = 100 * (VaR_new_C - VaR_Q3)\n",
        "print(\"CVaR_C for holdings_Q3:\", CVaR_C)\n"
      ],
      "metadata": {
        "colab": {
          "base_uri": "https://localhost:8080/",
          "height": 667
        },
        "id": "UcF5xVNTBrVo",
        "outputId": "1f0c47e1-e730-4965-c3fb-a2469209f29b"
      },
      "execution_count": 16,
      "outputs": [
        {
          "output_type": "stream",
          "name": "stdout",
          "text": [
            "VaR for holdings_Q1: 9956.983483145892\n",
            "DVaR_A: 0.9310030602446204\n",
            "DVaR_B: 0.6708504808684665\n",
            "DVaR_C: 2.034937238724524\n",
            "CVaR_A: 1862.00612048724\n",
            "CVaR_B: 4025.1028852100717\n",
            "CVaR_C: 4069.874477448866\n",
            "Sum of CVaR deviations: 0.9959291819997494\n"
          ]
        },
        {
          "output_type": "display_data",
          "data": {
            "text/plain": [
              "<Figure size 640x480 with 1 Axes>"
            ],
            "image/png": "[encoded data removed]"
          },
          "metadata": {}
        },
        {
          "output_type": "stream",
          "name": "stdout",
          "text": [
            "VaR for holdings_Q3: 9565.547422197978\n",
            "DVaR_C for holdings_Q3: 3.2698732136959734\n",
            "CVaR_C for holdings_Q3: 6539.746427393948\n"
          ]
        }
      ]
    },
    {
      "cell_type": "markdown",
      "source": [
        "##Managing a Currency Trading Desk"
      ],
      "metadata": {
        "id": "a56MXhqv9mfE"
      }
    }
  ]
}